{
 "cells": [
  {
   "cell_type": "code",
   "execution_count": 1,
   "id": "2c03c247",
   "metadata": {},
   "outputs": [],
   "source": [
    "using SelfConsistentHartreeFock, SecondQuantizedAlgebra\n",
    "using SelfConsistentHartreeFock.MatrixEquations\n",
    "using SelfConsistentHartreeFock: @unpack\n",
    "using LinearAlgebra\n",
    "import SecondQuantizedAlgebra as SQA\n",
    "using Symbolics"
   ]
  },
  {
   "cell_type": "code",
   "execution_count": 2,
   "id": "5c282a03",
   "metadata": {},
   "outputs": [
    {
     "data": {
      "text/latex": [
       "$ - \\Delta a^\\dagger a + K a^\\dagger a^\\dagger a a + G a^\\dagger a^\\dagger + G a a$"
      ],
      "text/plain": [
       "(-Δ*(a′*a)+K*(a′*a′*a*a)+G*(a′*a′)+G*(a*a))"
      ]
     },
     "metadata": {},
     "output_type": "display_data"
    }
   ],
   "source": [
    "h = FockSpace(:cavity)\n",
    "\n",
    "@qnumbers a::Destroy(h)\n",
    "@variables G::Real Δ::Real K::Real κ::Real\n",
    "\n",
    "H = -Δ * a' * a + K * (a'^2 * a^2) + G * (a'*a' + a*a)"
   ]
  },
  {
   "cell_type": "markdown",
   "id": "1e152b73",
   "metadata": {},
   "source": [
    "## Fluctuations\n",
    "We assume the driven modes $a$ to have a large coherent population $\\alpha$ with small quantum fluctuations $d$ on top, so we write $a = \\alpha + d$.\n",
    "$$\n",
    "\\begin{align}\n",
    "H_{\\rm lin}&=(-\\alpha  \\Delta +2 K |\\alpha|^2 \\alpha+2G\\alpha^*)  d^{\\dagger }\n",
    "+(- \\alpha^* \\Delta + 2 K |\\alpha|^2 \\alpha ^* +2G\\alpha)d\\\\\n",
    "H_{\\rm higher order}&=(-\\Delta +4 K  |\\alpha|^2 ) d^{\\dagger } d\n",
    "+\\alpha ^2 K d^{\\dagger } d^{\\dagger }\n",
    "+K \\left(\\alpha ^*\\right)^2 d d\n",
    "+2 K \\alpha ^* d^{\\dagger } d d\n",
    "+2 \\alpha  K d^{\\dagger } d^{\\dagger } d\n",
    "+K d^{\\dagger } d^{\\dagger } d d\n",
    "\\end{align}\n",
    "$$"
   ]
  },
  {
   "cell_type": "markdown",
   "id": "4d12a88d",
   "metadata": {},
   "source": [
    "## Hartree-Fock approximation \n",
    "\n",
    "We apply the Hartree-Fock approximation to the higher order terms, which consists in replacing products of operators by products of operators and their expectation values:\n",
    "$$\n",
    "\\begin{align}\n",
    "d^{\\dagger } d^{\\dagger } d d\n",
    "&\\approx 4n d^{\\dagger } d + m^* d d + m d^{\\dagger } d^{\\dagger }\\\\\n",
    "d^\\dagger d d\n",
    "&\\approx 2n d + m d^\\dagger\\\\\n",
    "\\end{align}\n",
    "$$\n",
    "such that, up to additive constants (which only shift the zero of energy), the higher order terms become quadratic:\n",
    "$$\n",
    "\\begin{align}\n",
    "H_{\\rm HF}&=(-\\Delta +4 K  |\\alpha|^2 +4 K n) d^{\\dagger } d\n",
    "+K (\\alpha ^2 +  m) d^{\\dagger } d^{\\dagger }\n",
    "+K( \\left(\\alpha ^*\\right)^2 +m^*) d d\n",
    "\\end{align}\n",
    "$$\n",
    "Here, we defined $\\langle d^{\\dagger } d\\rangle=n \\in \\mathbb{R}$ and $\\langle d d\\rangle = m  \\in \\mathbb{C}$. The linear terms instead becomes\n",
    "$$\n",
    "\\begin{align}\n",
    "H_{\\rm lin}&=\n",
    "(-\\alpha  \\Delta +2 K |\\alpha|^2 \\alpha  +2 K m \\alpha ^*+4 K n \\alpha +2G\\alpha^*)  d^{\\dagger }\n",
    "+(-\\Delta  \\alpha ^*+2 K |\\alpha|^2  \\alpha ^*+2 \\alpha K m^*+4 n K  \\alpha ^*+2G\\alpha)d\n",
    "\\end{align}\n",
    "$$"
   ]
  },
  {
   "cell_type": "code",
   "execution_count": 3,
   "id": "1faa78a7",
   "metadata": {},
   "outputs": [
    {
     "data": {
      "text/plain": [
       "Dict{Any, Any} with 6 entries:\n",
       "  (a′*a′) => G + K*⟨a*a⟩ + K*(⟨a⟩^2)\n",
       "  (a′*a)  => -Δ + 4K*⟨a′*a⟩ + 4K*⟨a′⟩*⟨a⟩\n",
       "  (a*a)   => G + K*⟨a′*a′⟩ + K*(⟨a′⟩^2)\n",
       "  a′      => 2G*⟨a′⟩ - ⟨a⟩*Δ + 2K*⟨a′⟩*⟨a*a⟩ + 4K*⟨a⟩*⟨a′*a⟩ + 2K*⟨a′⟩*(⟨a⟩^2)\n",
       "  a       => 2G*⟨a⟩ - ⟨a′⟩*Δ + 4K*⟨a′⟩*⟨a′*a⟩ + 2K*⟨a⟩*⟨a′*a′⟩ + 2K*(⟨a′⟩^2)*⟨a⟩\n",
       "  1.0     => G*(⟨a′⟩^2) + G*(⟨a⟩^2) - ⟨a′⟩*⟨a⟩*Δ + K*(⟨a′⟩^2)*(⟨a⟩^2)"
      ]
     },
     "metadata": {},
     "output_type": "display_data"
    }
   ],
   "source": [
    "sys = HartreeFockSystem(H, [a], [κ])\n",
    "collect_dict(sys.H)"
   ]
  },
  {
   "cell_type": "code",
   "execution_count": 4,
   "id": "3c82fc88",
   "metadata": {},
   "outputs": [
    {
     "data": {
      "text/plain": [
       "1-element Vector{Destroy}:\n",
       " a"
      ]
     },
     "metadata": {},
     "output_type": "display_data"
    },
    {
     "data": {
      "text/plain": [
       "2-element Vector{SecondQuantizedAlgebra.QMul}:\n",
       " (a′*a)\n",
       " (a*a)"
      ]
     },
     "metadata": {},
     "output_type": "display_data"
    }
   ],
   "source": [
    "sys.operators |> display\n",
    "sys.correlators |> display"
   ]
  },
  {
   "cell_type": "markdown",
   "id": "b26caa5c",
   "metadata": {},
   "source": [
    "We can rewrite the Hartree-Fock Hamiltonian in matrix (Numba) form:\n",
    "$$\n",
    "H_{\\rm HF}=\\frac{1}{2} \\Psi^\\dagger \n",
    "\\begin{pmatrix} A & B \\\\ B^* & A^T \\end{pmatrix}\n",
    "\\Psi \n",
    "\\quad\\text{with}\\quad\n",
    "\\Psi =\\begin{pmatrix} d \\\\ d^\\dagger \\end{pmatrix}\n",
    "$$\n",
    "where $A=d^\\dagger$ is hermitian and $B=B^T$ is symmetric. In our case, they are given by \n",
    "$$\n",
    "\\begin{align}\n",
    "A&=-\\Delta +4 K  |\\alpha|^2 +4 K n\\\\\n",
    "B&=2G +K (\\alpha ^2 +  m)\\\\\n",
    "\\end{align}\n",
    "$$"
   ]
  },
  {
   "cell_type": "code",
   "execution_count": 5,
   "id": "3d76a305",
   "metadata": {},
   "outputs": [
    {
     "data": {
      "text/plain": [
       "1×1 Matrix{Num}:\n",
       " -Δ + 4K*⟨a′*a⟩ + 4K*⟨a′⟩*⟨a⟩"
      ]
     },
     "metadata": {},
     "output_type": "display_data"
    },
    {
     "data": {
      "text/plain": [
       "1×1 Matrix{Num}:\n",
       " 2(G + K*⟨a*a⟩ + K*(⟨a⟩^2))"
      ]
     },
     "metadata": {},
     "output_type": "display_data"
    }
   ],
   "source": [
    "sys.dynamical_matrix.A |> display\n",
    "sys.dynamical_matrix.B |> display"
   ]
  },
  {
   "cell_type": "markdown",
   "id": "1163e488",
   "metadata": {},
   "source": [
    "Introduce the bosonic symplectic matrix $\\Sigma=\\mathrm{diag}(I,-I)$.\n",
    "In Heisenberg–Langevin form with Markov damping rates $\\kappa_i$ (pack them in $K\\equiv \\mathrm{Diag}(\\kappa_1,\\dots,\\kappa_N))$:\n",
    "$$\n",
    "\\dot \\Psi = M\\Psi + \\Xi\n",
    " \\qquad\n",
    "M = -i\\Sigma\\mathcal{H} - \\tfrac{1}{2}\n",
    "\\begin{pmatrix} K & 0\\\\ 0 & K \\end{pmatrix}.\n",
    "$$\n",
    "Explicitly,\n",
    "$$\n",
    "M=\\begin{pmatrix}\n",
    "-iA-\\tfrac12 K & -iB \\\\\n",
    "i B^* & i A^T-\\tfrac12 K\n",
    "\\end{pmatrix}.\n",
    "$$\n",
    "A steady state exists if all eigenvalues of $M$ have negative real parts (stability). For independent thermal baths with occupancies $\\bar n_i$,\n",
    "$$\n",
    "\\Xi = \\binom{\\sqrt{K},d^{\\rm in}}{\\sqrt{K},d^{\\rm in,\\dagger}},\\quad\n",
    "\\langle d^{\\rm in}(t),d^{\\rm in,\\dagger}(t')\\rangle=(\\bar n+1)\\delta(t-t'), \\quad\n",
    "\\langle d^{\\rm in,\\dagger}(t),d^{\\rm in}(t')\\rangle=\\bar n\\delta(t-t'),\n",
    "$$\n",
    "which gives the (white) diffusion matrix\n",
    "$$\n",
    "D=\\begin{pmatrix}\n",
    "K(\\bar n+1) & 0\\\\\n",
    "0 & K\\bar n\n",
    "\\end{pmatrix}.\n",
    "$$\n",
    "Here $\\bar n=\\mathrm{Diag}(\\bar n_1\\dots\\bar n_N)$. Zero temperature: set $\\bar n=0.$ Define the normally-ordered correlation matrix\n",
    "$$\n",
    "C\\equiv\\langle \\Psi,\\Psi^\\dagger\\rangle\n",
    "=\\begin{pmatrix}\n",
    "\\langle d,d^\\dagger\\rangle & \\langle d,d\\rangle\\\\\n",
    "\\langle d^\\dagger d^\\dagger\\rangle & \\langle d^\\dagger d\\rangle\n",
    "\\end{pmatrix}\n",
    "=\\begin{pmatrix}\n",
    "I + N^\\top & M_{an}\\\\\n",
    "M_{an}^\\dagger & N\n",
    "\\end{pmatrix},\n",
    "$$\n",
    "where $N_{ij}=\\langle d_j^\\dagger d_i\\rangle$ and $(M_{an})_{ij}=\\langle d_i d_j\\rangle$.\n",
    "Then $C$ satisfies the continuous-time Lyapunov equation\n",
    "$$\n",
    "\\boxed{\\quad M C + CM^\\dagger + D = 0 \\quad}\n",
    "$$\n",
    "Solve this once (no iteration) to get all steady-state second moments. Extract:\n",
    "$$\n",
    "N = C_{22}, \\qquad M_{an}=C_{12}.\n",
    "$$"
   ]
  },
  {
   "cell_type": "code",
   "execution_count": null,
   "id": "af3eb00c",
   "metadata": {},
   "outputs": [
    {
     "data": {
      "text/plain": [
       "IterativeProblem"
      ]
     },
     "metadata": {},
     "output_type": "display_data"
    }
   ],
   "source": [
    "p = Dict(G => 0.01, Δ => 0.0, K => 0.001, κ => 0.005)\n",
    "problem = IterativeProblem(sys, p)"
   ]
  },
  {
   "cell_type": "code",
   "execution_count": null,
   "id": "d9198711",
   "metadata": {},
   "outputs": [
    {
     "data": {
      "text/plain": [
       "2×2 Matrix{ComplexF64}:\n",
       " -0.0025-0.008im    0.004-0.02im\n",
       "   0.004+0.02im   -0.0025+0.008im"
      ]
     },
     "metadata": {},
     "output_type": "display_data"
    },
    {
     "data": {
      "text/plain": [
       "2×2 Matrix{Float64}:\n",
       " 0.005  0.0\n",
       " 0.0    0.0"
      ]
     },
     "metadata": {},
     "output_type": "display_data"
    }
   ],
   "source": [
    "α = ComplexF64[1.0+1im, 0.0, 0.0]\n",
    "@unpack M, D = problem.dynamical_matrix;\n",
    "_M = M(α)\n",
    "_D = D(α)\n",
    "_M |> display\n",
    "_D"
   ]
  },
  {
   "cell_type": "code",
   "execution_count": 10,
   "id": "4d356f5c",
   "metadata": {},
   "outputs": [
    {
     "data": {
      "text/plain": [
       "-0.005000000000000001 - 3.469446951953614e-18im"
      ]
     },
     "metadata": {},
     "output_type": "display_data"
    }
   ],
   "source": [
    "eigvals(_M) |> sum"
   ]
  },
  {
   "cell_type": "code",
   "execution_count": 11,
   "id": "cbbd0b67",
   "metadata": {},
   "outputs": [
    {
     "data": {
      "text/plain": [
       "2-element Vector{Num}:\n",
       " 2G*⟨a⟩ - ⟨a′⟩*Δ + 4K*⟨a′⟩*⟨a′*a⟩ + 2K*⟨a⟩*⟨a′*a′⟩ + 2K*(⟨a′⟩^2)*⟨a⟩\n",
       "   2G*⟨a′⟩ - ⟨a⟩*Δ + 2K*⟨a′⟩*⟨a*a⟩ + 4K*⟨a⟩*⟨a′*a⟩ + 2K*⟨a′⟩*(⟨a⟩^2)"
      ]
     },
     "metadata": {},
     "output_type": "display_data"
    }
   ],
   "source": [
    "sys.mean_field_eom"
   ]
  },
  {
   "cell_type": "markdown",
   "id": "45f3e09d",
   "metadata": {},
   "source": [
    "Your equations are\n",
    "$$\n",
    "\\begin{aligned}\n",
    "0&=2G a -\\Delta a' + 4K a' m_{a'a} + 2K a m_{a'a'} + 2K a'^2 a\\\\\n",
    "0&=2G a' -\\Delta a + 2K a' m_{aa} + 4K a m_{a'a} + 2K a a^2.\n",
    "\\end{aligned}\n",
    "$$\n",
    "Split linear in $a,a'$ vs nonlinear:\n",
    "$$\n",
    "L\n",
    "\\begin{bmatrix} a \\ a' \\end{bmatrix}\n",
    "= -N(a,a')\n",
    "$$\n",
    "where\n",
    "$$\n",
    "L=\n",
    "\\begin{pmatrix}\n",
    "2G+2K m_{a'a'} & -\\Delta+4K m_{a'a}\\\\\n",
    "-\\Delta+4Km_{a'a} & 2G+2Km_{aa}\n",
    "\\end{pmatrix},\n",
    "\\quad\n",
    "N(a,a')=\n",
    "\\begin{bmatrix}\n",
    "2K a'^2 a\\\\\n",
    "2K a a^2\n",
    "\\end{bmatrix}.\n",
    "$$\n",
    "\n",
    "Define the fixed-point map\n",
    "$$\n",
    "T(x)= - L^{-1}N(x) \\qquad x=\\begin{bmatrix}a \\\\ a'\\end{bmatrix}.\n",
    "$$\n",
    "Then iterate\n",
    "$$\n",
    "x^{(k+1)} = T \\big(x^{(k)}\\big)\n",
    "= - L^{-1} N \\big(x^{(k)}\\big),\n",
    "$$"
   ]
  },
  {
   "cell_type": "code",
   "execution_count": 19,
   "id": "264cd340",
   "metadata": {},
   "outputs": [
    {
     "data": {
      "text/plain": [
       "2×2 Matrix{ComplexF64}:\n",
       " 0.02-0.0im   0.0-0.0im\n",
       "  0.0-0.0im  0.02+0.0im"
      ]
     },
     "metadata": {},
     "output_type": "display_data"
    },
    {
     "data": {
      "text/plain": [
       "2-element Vector{ComplexF64}:\n",
       " 0.004 - 0.004im\n",
       " 0.004 + 0.004im"
      ]
     },
     "metadata": {},
     "output_type": "display_data"
    },
    {
     "data": {
      "text/plain": [
       "2-element Vector{Int64}:\n",
       " 0\n",
       " 0"
      ]
     },
     "metadata": {},
     "output_type": "display_data"
    }
   ],
   "source": [
    "α = ComplexF64[1.0+1im, 0.0, 0.0]\n",
    "@unpack L, N, Fs = problem.meanfield;\n",
    "L(α) |> display\n",
    "N(α) |> display\n",
    "Fs(α)"
   ]
  },
  {
   "cell_type": "code",
   "execution_count": 13,
   "id": "c4c4b586",
   "metadata": {},
   "outputs": [
    {
     "data": {
      "text/plain": [
       "Dict{SymbolicUtils.BasicSymbolic{SecondQuantizedAlgebra.AvgSym}, ComplexF64} with 3 entries:\n",
       "  ⟨a*a⟩  => -0.0534524+0.0641985im\n",
       "  ⟨a⟩    => 0.0+0.0im\n",
       "  ⟨a′*a⟩ => -0.513588+0.0im"
      ]
     },
     "metadata": {},
     "output_type": "display_data"
    }
   ],
   "source": [
    "Dampening = 1.0\n",
    "MaxIter = 1_000\n",
    "ConvergenceMetricThreshold = 1e-3\n",
    "alg_kwargs = (;Algorithm = :Anderson, Dampening, MaxIter, ConvergenceMetricThreshold)\n",
    "\n",
    "α0 = ComplexF64[rand(ComplexF64), 0.0, 0.0]\n",
    "fixed_point(problem, α0)"
   ]
  },
  {
   "cell_type": "code",
   "execution_count": null,
   "id": "0154b04d",
   "metadata": {},
   "outputs": [],
   "source": []
  },
  {
   "cell_type": "code",
   "execution_count": null,
   "id": "89857dfe",
   "metadata": {},
   "outputs": [],
   "source": [
    "Δsweep = range(-0.01, 0.03, 101)\n",
    "\n",
    "\n",
    "results_up = parameter_sweep(problem, Δ, Δsweep, α0; alg_kwargs...);\n",
    "results_down = parameter_sweep(problem, Δ, reverse(Δsweep), α0; alg_kwargs...);"
   ]
  },
  {
   "cell_type": "code",
   "execution_count": 17,
   "id": "35634296",
   "metadata": {},
   "outputs": [
    {
     "data": {
      "text/plain": [
       "FixedPointAcceleration.FixedPointResults{Float64, Float64}(missing, missing, 0.19115956384755536, :InvalidInputOrOutputOfIteration, 3, [1.8240014437933785, 1.3395561138819294, 0.19115956384755536], FixedPointAcceleration.FunctionEvaluationResult{Float64, Float64}([NaN, NaN, -0.6290726871595487, NaN, 0.22331116686951713, 0.1584904946791036], missing, missing, :InputNAsDetected), [0.9081701091358824 0.0 0.0; 0.9013097922006567 0.0 0.0; … ; 0.0 1.3955801965433434 0.056024082661414044; 0.0 0.6836201138641883 0.1203006892105459], [0.0 0.0 0.0; 0.0 0.0 0.0; … ; 1.3955801965433434 0.056024082661414044 0.2471836465089694; 0.6836201138641883 0.1203006892105459 0.16126783038526607])"
      ]
     },
     "metadata": {},
     "output_type": "display_data"
    }
   ],
   "source": [
    "results_up[1]"
   ]
  },
  {
   "cell_type": "code",
   "execution_count": 10,
   "id": "d88247ee",
   "metadata": {},
   "outputs": [
    {
     "ename": "MethodError",
     "evalue": "MethodError: no method matching getindex(::FixedPointAcceleration.FixedPointResults{Float64, Float64}, ::SymbolicUtils.BasicSymbolic{SecondQuantizedAlgebra.AvgSym})\nThe function `getindex` exists, but no method is defined for this combination of argument types.",
     "output_type": "error",
     "traceback": [
      "MethodError: no method matching getindex(::FixedPointAcceleration.FixedPointResults{Float64, Float64}, ::SymbolicUtils.BasicSymbolic{SecondQuantizedAlgebra.AvgSym})\n",
      "The function `getindex` exists, but no method is defined for this combination of argument types.\n",
      "\n",
      "Stacktrace:\n",
      " [1] (::var\"#11#12\")(result::FixedPointAcceleration.FixedPointResults{Float64, Float64})\n",
      "   @ Main ~/Documents/SelfConsistentHartreeFock.jl/examples/jl_notebook_cell_df34fa98e69747e1a8f8a730347b8e2f_X60sZmlsZQ==.jl:2\n",
      " [2] iterate\n",
      "   @ ./generator.jl:48 [inlined]\n",
      " [3] _collect(c::Vector{Any}, itr::Base.Generator{Vector{Any}, var\"#11#12\"}, ::Base.EltypeUnknown, isz::Base.HasShape{1})\n",
      "   @ Base ./array.jl:811\n",
      " [4] collect_similar(cont::Vector{Any}, itr::Base.Generator{Vector{Any}, var\"#11#12\"})\n",
      "   @ Base ./array.jl:720\n",
      " [5] map(f::Function, A::Vector{Any})\n",
      "   @ Base ./abstractarray.jl:3371\n",
      " [6] top-level scope\n",
      "   @ ~/Documents/SelfConsistentHartreeFock.jl/examples/jl_notebook_cell_df34fa98e69747e1a8f8a730347b8e2f_X60sZmlsZQ==.jl:1"
     ]
    }
   ],
   "source": [
    "amplitude_up = map(results_up) do result\n",
    "    result[SQA.average(a)] |> norm\n",
    "end\n",
    "amplitude_down = map(results_down) do result\n",
    "    result[SQA.average(a)] |> norm\n",
    "end\n",
    "\n",
    "fluctuation_up = map(results_up) do result\n",
    "    result[SQA.average(a'*a)] |> norm\n",
    "end\n",
    "fluctuation_down = map(results_down) do result\n",
    "    result[SQA.average(a'*a)] |> norm\n",
    "end\n",
    "anomalous_up = map(results_up) do result\n",
    "    result[SQA.average(a*a)] |> norm\n",
    "end\n",
    "anomalous_down = map(results_down) do result\n",
    "    result[SQA.average(a*a)] |> norm\n",
    "end;"
   ]
  },
  {
   "cell_type": "code",
   "execution_count": 11,
   "id": "7ba5a1bc",
   "metadata": {},
   "outputs": [
    {
     "ename": "UndefVarError",
     "evalue": "UndefVarError: `amplitude_up` not defined in `Main`\nSuggestion: check for spelling errors or missing imports.",
     "output_type": "error",
     "traceback": [
      "UndefVarError: `amplitude_up` not defined in `Main`\n",
      "Suggestion: check for spelling errors or missing imports.\n"
     ]
    }
   ],
   "source": [
    "amplitude_up"
   ]
  },
  {
   "cell_type": "code",
   "execution_count": 12,
   "id": "222cadae",
   "metadata": {},
   "outputs": [
    {
     "ename": "UndefVarError",
     "evalue": "UndefVarError: `amplitude_down` not defined in `Main`\nSuggestion: check for spelling errors or missing imports.",
     "output_type": "error",
     "traceback": [
      "UndefVarError: `amplitude_down` not defined in `Main`\n",
      "Suggestion: check for spelling errors or missing imports.\n",
      "\n",
      "Stacktrace:\n",
      " [1] top-level scope\n",
      "   @ ~/Documents/SelfConsistentHartreeFock.jl/examples/jl_notebook_cell_df34fa98e69747e1a8f8a730347b8e2f_X61sZmlsZQ==.jl:2"
     ]
    }
   ],
   "source": [
    "using Plots\n",
    "l = length(amplitude_down)\n",
    "plt1 = plot(Δsweep, amplitude_up; xlabel = \"Detuning Δ\", ylabel = \"Amplitude\", legend = false)\n",
    "plot!(reverse(Δsweep)[1:l], amplitude_down)\n",
    "\n",
    "plt2 = plot(Δsweep, fluctuation_up; xlabel = \"Detuning Δ\", ylabel = \"Fluctuation\", legend = false)\n",
    "plot!(reverse(Δsweep)[1:l], fluctuation_down)\n",
    "\n",
    "plt3 = plot(Δsweep, anomalous_up; xlabel = \"Detuning Δ\", ylabel = \"Anomalous\", legend = false)\n",
    "plot!(reverse(Δsweep)[1:l], anomalous_down)\n",
    "\n",
    "plot(plt1, plt2, plt3; layout = (3, 1), size=(500, 600))"
   ]
  },
  {
   "cell_type": "code",
   "execution_count": 13,
   "id": "69c75e19",
   "metadata": {},
   "outputs": [],
   "source": []
  }
 ],
 "metadata": {
  "kernelspec": {
   "display_name": "Julia 1.11.7",
   "language": "julia",
   "name": "julia-1.11"
  },
  "language_info": {
   "file_extension": ".jl",
   "mimetype": "application/julia",
   "name": "julia",
   "version": "1.11.7"
  }
 },
 "nbformat": 4,
 "nbformat_minor": 5
}
