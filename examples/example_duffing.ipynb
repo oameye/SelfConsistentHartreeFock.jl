{
 "cells": [
  {
   "cell_type": "code",
   "execution_count": 25,
   "id": "6faa5e4a",
   "metadata": {},
   "outputs": [],
   "source": [
    "using SelfConsistentHartreeFock, SecondQuantizedAlgebra\n",
    "using SelfConsistentHartreeFock: @unpack\n",
    "using SelfConsistentHartreeFock.MatrixEquations\n",
    "using LinearAlgebra\n",
    "import SecondQuantizedAlgebra as SQA\n",
    "using Symbolics"
   ]
  },
  {
   "cell_type": "markdown",
   "id": "f4c82a9e",
   "metadata": {},
   "source": [
    "## System\n",
    "$$\n",
    "H=-\\Delta d^\\dagger a + k d^\\dagger d^\\dagger a a + F (d^\\dagger + a)\n",
    "$$"
   ]
  },
  {
   "cell_type": "code",
   "execution_count": 26,
   "id": "ecd0fe93",
   "metadata": {},
   "outputs": [
    {
     "data": {
      "text/latex": [
       "$ - \\Delta a^\\dagger a + K a^\\dagger a^\\dagger a a + F a^\\dagger + F a$"
      ],
      "text/plain": [
       "(-Δ*(a′*a)+K*(a′*a′*a*a)+F*(a′)+F*(a))"
      ]
     },
     "metadata": {},
     "output_type": "display_data"
    }
   ],
   "source": [
    "h = FockSpace(:cavity)\n",
    "\n",
    "@qnumbers a::Destroy(h)\n",
    "@variables F::Real Δ::Real K::Real κ::Real\n",
    "\n",
    "H = -Δ * a' * a + K * (a'^2 * a^2) + F * (a' + a)"
   ]
  },
  {
   "cell_type": "markdown",
   "id": "8ca06224",
   "metadata": {},
   "source": [
    "## Fluctuations\n",
    "We assume the driven modes $a$ to have a large coherent population $\\alpha$ with small quantum fluctuations $d$ on top, so we write $a = \\alpha + d$.\n",
    "$$\n",
    "\\begin{align}\n",
    "H_{\\rm lin}&=(-\\alpha  \\Delta +2 K |\\alpha|^2 \\alpha+F)  d^{\\dagger }\n",
    "+(- \\alpha^* \\Delta + 2 K |\\alpha|^2 \\alpha ^* +F)d\\\\\n",
    "H_{\\rm higher order}&=(-\\Delta +4 K  |\\alpha|^2 ) d^{\\dagger } d\n",
    "+\\alpha ^2 K d^{\\dagger } d^{\\dagger }\n",
    "+K \\left(\\alpha ^*\\right)^2 d d\n",
    "+2 K \\alpha ^* d^{\\dagger } d d\n",
    "+2 \\alpha  K d^{\\dagger } d^{\\dagger } d\n",
    "+K d^{\\dagger } d^{\\dagger } d d\n",
    "\\end{align}\n",
    "$$"
   ]
  },
  {
   "cell_type": "markdown",
   "id": "04675315",
   "metadata": {},
   "source": [
    "## Hartree-Fock approximation \n",
    "\n",
    "We apply the Hartree-Fock approximation to the higher order terms, which consists in replacing products of operators by products of operators and their expectation values:\n",
    "$$\n",
    "\\begin{align}\n",
    "d^{\\dagger } d^{\\dagger } d d\n",
    "&\\approx 4n d^{\\dagger } d + m^* d d + m d^{\\dagger } d^{\\dagger }\\\\\n",
    "d^\\dagger d d\n",
    "&\\approx 2n d + m d^\\dagger\\\\\n",
    "\\end{align}\n",
    "$$\n",
    "such that, up to additive constants (which only shift the zero of energy), the higher order terms become quadratic:\n",
    "$$\n",
    "\\begin{align}\n",
    "H_{\\rm HF}&=(-\\Delta +4 K  |\\alpha|^2 +4 K n) d^{\\dagger } d\n",
    "+K (\\alpha ^2 +  m) d^{\\dagger } d^{\\dagger }\n",
    "+K( \\left(\\alpha ^*\\right)^2 +m^*) d d\n",
    "\\end{align}\n",
    "$$\n",
    "Here, we defined $\\langle d^{\\dagger } d\\rangle=n \\in \\mathbb{R}$ and $\\langle d d\\rangle = m  \\in \\mathbb{C}$. The linear terms instead becomes\n",
    "$$\n",
    "\\begin{align}\n",
    "H_{\\rm lin}&=\n",
    "(-\\alpha  \\Delta +2 K |\\alpha|^2 \\alpha  +2 K m \\alpha ^*+4 K n \\alpha +F)  d^{\\dagger }\n",
    "+(-\\Delta  \\alpha ^*+2 K |\\alpha|^2  \\alpha ^*+2 \\alpha K m^*+4 n K  \\alpha ^*+F)d\n",
    "\\end{align}\n",
    "$$"
   ]
  },
  {
   "cell_type": "code",
   "execution_count": 27,
   "id": "a8216980",
   "metadata": {},
   "outputs": [
    {
     "data": {
      "text/plain": [
       "Dict{Any, Any} with 6 entries:\n",
       "  1.0     => F*⟨a′⟩ + F*⟨a⟩ - ⟨a′⟩*⟨a⟩*Δ + K*(⟨a′⟩^2)*(⟨a⟩^2)\n",
       "  (a*a)   => K*⟨a′*a′⟩ + K*(⟨a′⟩^2)\n",
       "  a′      => F - ⟨a⟩*Δ + 4K*⟨a′*a⟩*⟨a⟩ + 2K*⟨a′⟩*⟨a*a⟩ + 2K*⟨a′⟩*(⟨a⟩^2)\n",
       "  (a′*a′) => K*⟨a*a⟩ + K*(⟨a⟩^2)\n",
       "  (a′*a)  => -Δ + 4K*⟨a′*a⟩ + 4K*⟨a′⟩*⟨a⟩\n",
       "  a       => F - ⟨a′⟩*Δ + 4K*⟨a′*a⟩*⟨a′⟩ + 2K*⟨a′*a′⟩*⟨a⟩ + 2K*(⟨a′⟩^2)*⟨a⟩"
      ]
     },
     "metadata": {},
     "output_type": "display_data"
    }
   ],
   "source": [
    "sys = HartreeFockSystem(H, [a], [κ])\n",
    "collect_dict(sys.H)"
   ]
  },
  {
   "cell_type": "markdown",
   "id": "c8b4e104",
   "metadata": {},
   "source": [
    "We can rewrite the Hartree-Fock Hamiltonian in matrix (Numba) form:\n",
    "$$\n",
    "H_{\\rm HF}=\\frac{1}{2} \\Psi^\\dagger \n",
    "\\begin{pmatrix} A & B \\\\ B^* & d^T \\end{pmatrix}\n",
    "\\Psi \n",
    "\\quad\\text{with}\\quad\n",
    "\\Psi =\\begin{pmatrix} d \\\\ d^\\dagger \\end{pmatrix}\n",
    "$$\n",
    "where $A=d^\\dagger$ is hermitian and $B=B^T$ is symmetric. In our case, they are given by \n",
    "$$\n",
    "\\begin{align}\n",
    "A&=-\\Delta +4 K  |\\alpha|^2 +4 K n\\\\\n",
    "B&=2K (\\alpha ^2 +  m)\\\\\n",
    "\\end{align}\n",
    "$$"
   ]
  },
  {
   "cell_type": "code",
   "execution_count": 28,
   "id": "027f2ccf",
   "metadata": {},
   "outputs": [
    {
     "data": {
      "text/plain": [
       "1×1 Matrix{Num}:\n",
       " -Δ + 4K*⟨a′*a⟩ + 4K*⟨a′⟩*⟨a⟩"
      ]
     },
     "metadata": {},
     "output_type": "display_data"
    },
    {
     "data": {
      "text/plain": [
       "1×1 Matrix{Num}:\n",
       " 2(K*⟨a*a⟩ + K*(⟨a⟩^2))"
      ]
     },
     "metadata": {},
     "output_type": "display_data"
    }
   ],
   "source": [
    "sys.dynamical_matrix.A |> display\n",
    "sys.dynamical_matrix.B |> display"
   ]
  },
  {
   "cell_type": "markdown",
   "id": "4ee4a548",
   "metadata": {},
   "source": [
    "Introduce the bosonic symplectic matrix $\\Sigma=\\mathrm{diag}(I,-I)$.\n",
    "In Heisenberg–Langevin form with Markov damping rates $\\kappa_i$ (pack them in $K\\equiv \\mathrm{Diag}(\\kappa_1,\\dots,\\kappa_N))$:\n",
    "$$\n",
    "\\dot \\Psi = M\\Psi + \\Xi\n",
    " \\qquad\n",
    "M = -i\\Sigma\\mathcal{H} - \\tfrac{1}{2}\n",
    "\\begin{pmatrix} K & 0\\\\ 0 & K \\end{pmatrix}.\n",
    "$$\n",
    "Explicitly,\n",
    "$$\n",
    "M=\\begin{pmatrix}\n",
    "-iA-\\tfrac12 K & -iB \\\\\n",
    "i B^* & i A^T-\\tfrac12 K\n",
    "\\end{pmatrix}.\n",
    "$$\n",
    "A steady state exists if all eigenvalues of $M$ have negative real parts (stability). For independent thermal baths with occupancies $\\bar n_i$,\n",
    "$$\n",
    "\\Xi = \\binom{\\sqrt{K},d^{\\rm in}}{\\sqrt{K},d^{\\rm in,\\dagger}},\\quad\n",
    "\\langle d^{\\rm in}(t),d^{\\rm in,\\dagger}(t')\\rangle=(\\bar n+1)\\delta(t-t'), \\quad\n",
    "\\langle d^{\\rm in,\\dagger}(t),d^{\\rm in}(t')\\rangle=\\bar n\\delta(t-t'),\n",
    "$$\n",
    "which gives the (white) diffusion matrix\n",
    "$$\n",
    "D=\\begin{pmatrix}\n",
    "K(\\bar n+1) & 0\\\\\n",
    "0 & K\\bar n\n",
    "\\end{pmatrix}.\n",
    "$$\n",
    "Here $\\bar n=\\mathrm{Diag}(\\bar n_1\\dots\\bar n_N)$. Zero temperature: set $\\bar n=0.$ Define the normally-ordered correlation matrix\n",
    "$$\n",
    "C\\equiv\\langle \\Psi,\\Psi^\\dagger\\rangle\n",
    "=\\begin{pmatrix}\n",
    "\\langle d,d^\\dagger\\rangle & \\langle d,d\\rangle\\\\\n",
    "\\langle d^\\dagger d^\\dagger\\rangle & \\langle d^\\dagger d\\rangle\n",
    "\\end{pmatrix}\n",
    "=\\begin{pmatrix}\n",
    "I + N^\\top & M_{an}\\\\\n",
    "M_{an}^\\dagger & N\n",
    "\\end{pmatrix},\n",
    "$$\n",
    "where $N_{ij}=\\langle d_j^\\dagger d_i\\rangle$ and $(M_{an})_{ij}=\\langle d_i d_j\\rangle$.\n",
    "Then (G) satisfies the continuous-time Lyapunov equation\n",
    "$$\n",
    "\\boxed{\\quad M C + CM^\\dagger + D = 0 \\quad}\n",
    "$$\n",
    "Solve this once (no iteration) to get all steady-state second moments. Extract:\n",
    "$$\n",
    "N = C_{22}, \\qquad M_{an}=C_{12}.\n",
    "$$"
   ]
  },
  {
   "cell_type": "code",
   "execution_count": 29,
   "id": "af3e8219",
   "metadata": {},
   "outputs": [
    {
     "data": {
      "text/plain": [
       "IterativeProblem"
      ]
     },
     "metadata": {},
     "output_type": "display_data"
    }
   ],
   "source": [
    "p = Dict(F => 0.01, Δ => -0.01, K => 0.001, κ => 0.01)\n",
    "problem = IterativeProblem(sys, p)"
   ]
  },
  {
   "cell_type": "code",
   "execution_count": 30,
   "id": "bbdb8ec0",
   "metadata": {},
   "outputs": [
    {
     "data": {
      "text/plain": [
       "2×2 Matrix{ComplexF64}:\n",
       " -0.005-0.018im   0.004+0.0im\n",
       "  0.004+0.0im    -0.005+0.018im"
      ]
     },
     "metadata": {},
     "output_type": "display_data"
    },
    {
     "data": {
      "text/plain": [
       "2×2 Matrix{Float64}:\n",
       " 0.01  0.0\n",
       " 0.0   0.0"
      ]
     },
     "metadata": {},
     "output_type": "display_data"
    }
   ],
   "source": [
    "α = ComplexF64[1.0+1im, 0.0, 0.0]\n",
    "@unpack M, D = problem.dynamical_matrix;\n",
    "_M = M(α)\n",
    "_D = D(α)\n",
    "_M |> display\n",
    "_D"
   ]
  },
  {
   "cell_type": "markdown",
   "id": "3ae59c81",
   "metadata": {},
   "source": [
    "Notice that if any eigenvalue of $M$ has a positive real part, the Lyapunov equation has no solution. This is consistent with the fact that in this case the system has no steady state."
   ]
  },
  {
   "cell_type": "code",
   "execution_count": 31,
   "id": "82f6d8b1",
   "metadata": {},
   "outputs": [
    {
     "data": {
      "text/plain": [
       "-0.009999999999999998 + 0.0im"
      ]
     },
     "metadata": {},
     "output_type": "display_data"
    }
   ],
   "source": [
    "eigvals(_M) |> sum"
   ]
  },
  {
   "cell_type": "code",
   "execution_count": 32,
   "id": "357ea6e3",
   "metadata": {},
   "outputs": [
    {
     "name": "stdout",
     "output_type": "stream",
     "text": [
      "_C1 ≈ _C2 = true\n"
     ]
    },
    {
     "data": {
      "text/plain": [
       "2×2 Matrix{ComplexF64}:\n",
       " 1.02402+0.0im        0.03003-0.108108im\n",
       " 0.03003+0.108108im  0.024024+0.0im"
      ]
     },
     "metadata": {},
     "output_type": "display_data"
    }
   ],
   "source": [
    "_C1 = lyap(_M, _D)\n",
    "_C2 = lyapc(_M, _D)\n",
    "@show _C1 ≈ _C2\n",
    "_C2"
   ]
  },
  {
   "cell_type": "markdown",
   "id": "de4870ea",
   "metadata": {},
   "source": [
    "We can perform some quick checks:\n",
    "* $C_{11}-I = C_{22}^\\top$ (bosonic commutation relations)\n",
    "* $n(n+1) > |m|^2.$ (uncertainty relation)"
   ]
  },
  {
   "cell_type": "code",
   "execution_count": 33,
   "id": "45b28eef",
   "metadata": {},
   "outputs": [
    {
     "name": "stdout",
     "output_type": "stream",
     "text": [
      "_C2[1, 1] - _C2[2, 2] = 1.0000000000000007 + 0.0im\n",
      "n * (n + 1) > abs(m) ^ 2 = true\n",
      "_C2[1, 2] ≈ conj(_C2[2, 1]) = true\n"
     ]
    },
    {
     "data": {
      "text/plain": [
       "true"
      ]
     },
     "metadata": {},
     "output_type": "display_data"
    }
   ],
   "source": [
    "n = _C2[2,2] |> real\n",
    "m = _C2[1,2]\n",
    "@show _C2[1,1] - _C2[2,2] \n",
    "@show n*(n+1) > abs(m)^2 \n",
    "@show _C2[1,2] ≈ conj(_C2[2,1])"
   ]
  },
  {
   "cell_type": "code",
   "execution_count": 34,
   "id": "10d5be36",
   "metadata": {},
   "outputs": [
    {
     "data": {
      "text/plain": [
       "SelfConsistentHartreeFock.Result(ComplexF64[-0.8733123179614133 + 0.0029113318603803755im], [0.0052746033180585405], ComplexF64[-0.04783878511349344 - 0.0194055079307607im])"
      ]
     },
     "metadata": {},
     "output_type": "display_data"
    }
   ],
   "source": [
    "α0 = ComplexF64[rand(ComplexF64), 0.0, 0.0]\n",
    "fixed_point(problem, α0)"
   ]
  },
  {
   "cell_type": "code",
   "execution_count": 35,
   "id": "610581c0",
   "metadata": {},
   "outputs": [],
   "source": [
    "Δsweep = range(-0.01, 0.03, 101)\n",
    "Dampening = 0.2\n",
    "MaxIter = 10000\n",
    "ConvergenceMetricThreshold = 1e-12\n",
    "results_up = parameter_sweep(problem, Δ, Δsweep, α0)\n",
    "results_down = parameter_sweep(problem, Δ, reverse(Δsweep), α0; Dampening, MaxIter, ConvergenceMetricThreshold);"
   ]
  },
  {
   "cell_type": "code",
   "execution_count": 36,
   "id": "24025804",
   "metadata": {},
   "outputs": [],
   "source": [
    "amplitude_up = map(results_up) do result\n",
    "    result.αs[1] |> norm\n",
    "end\n",
    "amplitude_down = map(results_down) do result\n",
    "    result.αs[1] |> norm\n",
    "end\n",
    "\n",
    "fluctuation_up = map(results_up) do result\n",
    "    result.ns[1]\n",
    "end\n",
    "fluctuation_down = map(results_down) do result\n",
    "    result.ns[1]\n",
    "end\n",
    "\n",
    "anomalous_up = map(results_up) do result\n",
    "    result.ms[1] |> norm\n",
    "end\n",
    "anomalous_down = map(results_down) do result\n",
    "    result.ms[1] |> norm\n",
    "end;"
   ]
  },
  {
   "cell_type": "code",
   "execution_count": 37,
   "id": "9aeee1dd",
   "metadata": {},
   "outputs": [
    {
     "name": "stdout",
     "output_type": "stream",
     "text": []
    }
   ],
   "source": [
    "using Plots\n",
    "l = length(amplitude_down)\n",
    "plt1 = plot(Δsweep, amplitude_up; xlabel = \"Detuning Δ\", ylabel = \"Amplitude\", legend = false)\n",
    "plot!(reverse(Δsweep)[1:l], amplitude_down)\n",
    "\n",
    "plt2 = plot(Δsweep, fluctuation_up; xlabel = \"Detuning Δ\", ylabel = \"Fluctuation\", legend = false)\n",
    "plot!(reverse(Δsweep)[1:l], fluctuation_down)\n",
    "\n",
    "plt3 = plot(Δsweep, anomalous_up; xlabel = \"Detuning Δ\", ylabel = \"Anomalous\", legend = false)\n",
    "plot!(reverse(Δsweep)[1:l], anomalous_down)\n",
    "\n",
    "plot(plt1, plt2, plt3; layout = (3, 1), size=(500, 600))"
   ]
  },
  {
   "cell_type": "code",
   "execution_count": 47,
   "id": "39e926f9",
   "metadata": {},
   "outputs": [],
   "source": []
  }
 ],
 "metadata": {
  "kernelspec": {
   "display_name": "Julia 1.12.0",
   "language": "julia",
   "name": "julia-1.12"
  },
  "language_info": {
   "file_extension": ".jl",
   "mimetype": "application/julia",
   "name": "julia",
   "version": "1.12.0"
  }
 },
 "nbformat": 4,
 "nbformat_minor": 5
}
